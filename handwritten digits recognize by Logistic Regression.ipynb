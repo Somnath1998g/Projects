{
  "nbformat": 4,
  "nbformat_minor": 0,
  "metadata": {
    "colab": {
      "provenance": [],
      "gpuType": "T4",
      "authorship_tag": "ABX9TyMFdIV77QZ9HHhC1GUs0l2B",
      "include_colab_link": true
    },
    "kernelspec": {
      "name": "python3",
      "display_name": "Python 3"
    },
    "language_info": {
      "name": "python"
    },
    "accelerator": "GPU"
  },
  "cells": [
    {
      "cell_type": "markdown",
      "metadata": {
        "id": "view-in-github",
        "colab_type": "text"
      },
      "source": [
        "<a href=\"https://colab.research.google.com/github/Somnath1998g/Projects/blob/main/handwritten%20digits%20recognize%20by%20Logistic%20Regression.ipynb\" target=\"_parent\"><img src=\"https://colab.research.google.com/assets/colab-badge.svg\" alt=\"Open In Colab\"/></a>"
      ]
    },
    {
      "cell_type": "markdown",
      "source": [],
      "metadata": {
        "id": "ElG2NT0pIE6N"
      }
    },
    {
      "cell_type": "code",
      "execution_count": 58,
      "metadata": {
        "id": "YRm5i9bW4WS0"
      },
      "outputs": [],
      "source": [
        "import torch\n",
        "import torchvision\n",
        "from torchvision.datasets import MNIST"
      ]
    },
    {
      "cell_type": "code",
      "source": [
        "# Download training dataset\n",
        "dataset = MNIST(root='data/', download=True)"
      ],
      "metadata": {
        "id": "bwAuQZtM_on6"
      },
      "execution_count": 59,
      "outputs": []
    },
    {
      "cell_type": "code",
      "source": [
        "len(dataset)"
      ],
      "metadata": {
        "colab": {
          "base_uri": "https://localhost:8080/"
        },
        "id": "896NXo5b_uFx",
        "outputId": "84b49c4c-2115-42d9-88c3-7f8c14eaa9c1"
      },
      "execution_count": 60,
      "outputs": [
        {
          "output_type": "execute_result",
          "data": {
            "text/plain": [
              "60000"
            ]
          },
          "metadata": {},
          "execution_count": 60
        }
      ]
    },
    {
      "cell_type": "code",
      "source": [
        "test_dataset=MNIST(root='data/', train=False)\n",
        "len(test_dataset)"
      ],
      "metadata": {
        "colab": {
          "base_uri": "https://localhost:8080/"
        },
        "id": "krx-Lqdu_3IR",
        "outputId": "11ef59c0-344e-40ca-ce9b-006bd5cc10a0"
      },
      "execution_count": 61,
      "outputs": [
        {
          "output_type": "execute_result",
          "data": {
            "text/plain": [
              "10000"
            ]
          },
          "metadata": {},
          "execution_count": 61
        }
      ]
    },
    {
      "cell_type": "markdown",
      "source": [
        "Let's look at a sample element from the training dataset."
      ],
      "metadata": {
        "id": "w3Ufz3WoA9cv"
      }
    },
    {
      "cell_type": "code",
      "source": [
        "dataset[0]"
      ],
      "metadata": {
        "colab": {
          "base_uri": "https://localhost:8080/"
        },
        "id": "Cr-Rd81XA7qG",
        "outputId": "136a1f38-5f12-4586-f412-af5c829c82c5"
      },
      "execution_count": 62,
      "outputs": [
        {
          "output_type": "execute_result",
          "data": {
            "text/plain": [
              "(<PIL.Image.Image image mode=L size=28x28 at 0x7F0F27D2A200>, 5)"
            ]
          },
          "metadata": {},
          "execution_count": 62
        }
      ]
    },
    {
      "cell_type": "code",
      "source": [
        "import matplotlib.pyplot as plt\n",
        "%matplotlib inline"
      ],
      "metadata": {
        "id": "a4Y4SRLiAVpc"
      },
      "execution_count": 63,
      "outputs": []
    },
    {
      "cell_type": "code",
      "source": [
        "image, label= dataset[1]\n",
        "plt.imshow(image, cmap='gray')\n",
        "print('Label: ', label)"
      ],
      "metadata": {
        "colab": {
          "base_uri": "https://localhost:8080/",
          "height": 447
        },
        "id": "LyMmOC04BM96",
        "outputId": "0c09da92-a846-4a1b-fc4d-baf64edaf8f2"
      },
      "execution_count": 64,
      "outputs": [
        {
          "output_type": "stream",
          "name": "stdout",
          "text": [
            "Label:  0\n"
          ]
        },
        {
          "output_type": "display_data",
          "data": {
            "text/plain": [
              "<Figure size 640x480 with 1 Axes>"
            ],
            "image/png": "[encoded data removed]"
          },
          "metadata": {}
        }
      ]
    },
    {
      "cell_type": "code",
      "source": [
        "image, label=dataset[10]\n",
        "plt.imshow(image, cmap=\"gray\")\n",
        "print('Label: ', label)"
      ],
      "metadata": {
        "colab": {
          "base_uri": "https://localhost:8080/",
          "height": 447
        },
        "id": "6w2kaItCBdTC",
        "outputId": "17c6f359-38d7-47da-a5fb-71cc1c7a2820"
      },
      "execution_count": 65,
      "outputs": [
        {
          "output_type": "stream",
          "name": "stdout",
          "text": [
            "Label:  3\n"
          ]
        },
        {
          "output_type": "display_data",
          "data": {
            "text/plain": [
              "<Figure size 640x480 with 1 Axes>"
            ],
            "image/png": "[encoded data removed]"
          },
          "metadata": {}
        }
      ]
    },
    {
      "cell_type": "markdown",
      "source": [
        "PyTorch doesn't know how to work with images. We need to convert the images into tensors. We can do this by specifying a transform while creating our dataset."
      ],
      "metadata": {
        "id": "PF4HXK-iCKX-"
      }
    },
    {
      "cell_type": "code",
      "source": [
        "import torchvision.transforms as transforms"
      ],
      "metadata": {
        "id": "A6gEED15B59V"
      },
      "execution_count": 66,
      "outputs": []
    },
    {
      "cell_type": "markdown",
      "source": [
        "PyTorch datasets allow us to specify one or more transformation functions that are applied to the images as they are loaded. The torchvision.transforms module contains many such predefined functions. We'll use the ToTensor transform to convert images into PyTorch tensors."
      ],
      "metadata": {
        "id": "251EccxBChen"
      }
    },
    {
      "cell_type": "code",
      "source": [
        "dataset=MNIST(root='data/',\n",
        "              train=True,\n",
        "              transform=transforms.ToTensor())"
      ],
      "metadata": {
        "id": "JVmwHvy_CRRf"
      },
      "execution_count": 67,
      "outputs": []
    },
    {
      "cell_type": "code",
      "source": [
        "img_tensor, label = dataset[1]\n",
        "print(img_tensor.shape, label)"
      ],
      "metadata": {
        "colab": {
          "base_uri": "https://localhost:8080/"
        },
        "id": "HRRgQKtDC1gt",
        "outputId": "8f6345ff-3b86-475a-c8bc-f393fb5d44f1"
      },
      "execution_count": 68,
      "outputs": [
        {
          "output_type": "stream",
          "name": "stdout",
          "text": [
            "torch.Size([1, 28, 28]) 0\n"
          ]
        }
      ]
    },
    {
      "cell_type": "code",
      "source": [
        "print(img_tensor[0,10:15,10:15])\n",
        "print(torch.max(img_tensor), torch.min(img_tensor))"
      ],
      "metadata": {
        "colab": {
          "base_uri": "https://localhost:8080/"
        },
        "id": "suR5WBOjC4Kr",
        "outputId": "90d4bd78-a4a9-4956-cf81-706020d613e3"
      },
      "execution_count": 69,
      "outputs": [
        {
          "output_type": "stream",
          "name": "stdout",
          "text": [
            "tensor([[0.9333, 0.9882, 0.9882, 0.7020, 0.0471],\n",
            "        [0.9922, 0.9137, 0.8157, 0.3294, 0.0000],\n",
            "        [0.9412, 0.2784, 0.0745, 0.1098, 0.0000],\n",
            "        [0.2471, 0.0000, 0.0000, 0.0000, 0.0000],\n",
            "        [0.0000, 0.0000, 0.0000, 0.0000, 0.0000]])\n",
            "tensor(1.) tensor(0.)\n"
          ]
        }
      ]
    },
    {
      "cell_type": "markdown",
      "source": [
        "The values range from 0 to 1, with `0` representing black, `1` white, and the values in between different shades of grey. We can also plot the tensor as an image using 'plt.imshow'."
      ],
      "metadata": {
        "id": "KDmW4gSLEFmX"
      }
    },
    {
      "cell_type": "code",
      "source": [
        "plt.imshow(img_tensor[0,10:15,10:15], cmap='gray')"
      ],
      "metadata": {
        "colab": {
          "base_uri": "https://localhost:8080/",
          "height": 447
        },
        "id": "il3IBVPPDbxN",
        "outputId": "1a4e9f60-6216-4040-9efd-408729459949"
      },
      "execution_count": 70,
      "outputs": [
        {
          "output_type": "execute_result",
          "data": {
            "text/plain": [
              "<matplotlib.image.AxesImage at 0x7f0f278ab640>"
            ]
          },
          "metadata": {},
          "execution_count": 70
        },
        {
          "output_type": "display_data",
          "data": {
            "text/plain": [
              "<Figure size 640x480 with 1 Axes>"
            ],
            "image/png": "[encoded data removed]"
          },
          "metadata": {}
        }
      ]
    },
    {
      "cell_type": "markdown",
      "source": [
        "# Training and Validation Datasets\n",
        "\n",
        "Since there's no predefined validation set, we must manually split the 60,000 images into training and validation datasets. Let's set aside 10,000 randomly chosen images for validation. We can do this using the random_spilt method from PyTorch."
      ],
      "metadata": {
        "id": "S6i11sWnEuPG"
      }
    },
    {
      "cell_type": "code",
      "source": [
        "from torch.utils.data import random_split\n",
        "train_ds, val_ds= random_split(dataset, [50000,10000])\n",
        "len(train_ds), len(val_ds)"
      ],
      "metadata": {
        "colab": {
          "base_uri": "https://localhost:8080/"
        },
        "id": "dEPu6vKXEdKN",
        "outputId": "73d393ef-4497-4658-d8c6-18717c93db11"
      },
      "execution_count": 71,
      "outputs": [
        {
          "output_type": "execute_result",
          "data": {
            "text/plain": [
              "(50000, 10000)"
            ]
          },
          "metadata": {},
          "execution_count": 71
        }
      ]
    },
    {
      "cell_type": "markdown",
      "source": [
        "We can now create data loaders to help us load the data in batches. We'll use a batch size of 128."
      ],
      "metadata": {
        "id": "EN6Sslh5H2W-"
      }
    },
    {
      "cell_type": "code",
      "source": [
        "from torch.utils.data import DataLoader\n",
        "\n",
        "batch_size = 128\n",
        "\n",
        "train_loader = DataLoader(train_ds, batch_size, shuffle=True)\n",
        "val_loader = DataLoader(val_ds, batch_size)"
      ],
      "metadata": {
        "id": "VcBSGkFRFWvh"
      },
      "execution_count": 72,
      "outputs": []
    },
    {
      "cell_type": "markdown",
      "source": [
        "## Model\n",
        "\n",
        "Here we use the Logistic Regression as our model"
      ],
      "metadata": {
        "id": "x_VFAI94FKqW"
      }
    },
    {
      "cell_type": "code",
      "source": [
        "import torch.nn as nn\n",
        "input_size = 28*28\n",
        "num_classes = 10\n",
        "# Logistic Regression model\n",
        "model= nn.Linear(input_size, num_classes)"
      ],
      "metadata": {
        "id": "qvndQdFaH7mt"
      },
      "execution_count": 73,
      "outputs": []
    },
    {
      "cell_type": "markdown",
      "source": [
        "Let's take a look at the weights and biases."
      ],
      "metadata": {
        "id": "ApC5vr0JGuj4"
      }
    },
    {
      "cell_type": "code",
      "source": [
        "print(model.weight.shape)\n",
        "model.weight"
      ],
      "metadata": {
        "colab": {
          "base_uri": "https://localhost:8080/"
        },
        "id": "raR2f-dlGpom",
        "outputId": "1383c555-76e6-4612-bcd0-2cce3300fed3"
      },
      "execution_count": 74,
      "outputs": [
        {
          "output_type": "stream",
          "name": "stdout",
          "text": [
            "torch.Size([10, 784])\n"
          ]
        },
        {
          "output_type": "execute_result",
          "data": {
            "text/plain": [
              "Parameter containing:\n",
              "tensor([[-0.0027,  0.0299,  0.0103,  ...,  0.0349, -0.0005, -0.0153],\n",
              "        [ 0.0210, -0.0269, -0.0012,  ...,  0.0077,  0.0045,  0.0356],\n",
              "        [ 0.0244, -0.0139,  0.0226,  ...,  0.0100,  0.0154,  0.0182],\n",
              "        ...,\n",
              "        [-0.0163, -0.0274,  0.0112,  ..., -0.0224,  0.0161, -0.0332],\n",
              "        [-0.0083,  0.0034,  0.0285,  ...,  0.0178, -0.0199,  0.0011],\n",
              "        [ 0.0327, -0.0289, -0.0018,  ..., -0.0288,  0.0243, -0.0315]],\n",
              "       requires_grad=True)"
            ]
          },
          "metadata": {},
          "execution_count": 74
        }
      ]
    },
    {
      "cell_type": "code",
      "source": [
        "print(model.bias.shape)\n",
        "model.bias"
      ],
      "metadata": {
        "colab": {
          "base_uri": "https://localhost:8080/"
        },
        "id": "zj3HB_WUGzgm",
        "outputId": "1490bc7a-521a-4fdc-c189-2a3014b09c0f"
      },
      "execution_count": 75,
      "outputs": [
        {
          "output_type": "stream",
          "name": "stdout",
          "text": [
            "torch.Size([10])\n"
          ]
        },
        {
          "output_type": "execute_result",
          "data": {
            "text/plain": [
              "Parameter containing:\n",
              "tensor([ 0.0074, -0.0040, -0.0009,  0.0147,  0.0335,  0.0263,  0.0055, -0.0134,\n",
              "         0.0270, -0.0353], requires_grad=True)"
            ]
          },
          "metadata": {},
          "execution_count": 75
        }
      ]
    },
    {
      "cell_type": "code",
      "source": [
        "images, labels in train_loader"
      ],
      "metadata": {
        "colab": {
          "base_uri": "https://localhost:8080/"
        },
        "id": "gqyNp-s_ITl-",
        "outputId": "224b77e5-abee-4115-d5c1-5d57394d1a57"
      },
      "execution_count": 76,
      "outputs": [
        {
          "output_type": "execute_result",
          "data": {
            "text/plain": [
              "(tensor([[[[0., 0., 0.,  ..., 0., 0., 0.],\n",
              "           [0., 0., 0.,  ..., 0., 0., 0.],\n",
              "           [0., 0., 0.,  ..., 0., 0., 0.],\n",
              "           ...,\n",
              "           [0., 0., 0.,  ..., 0., 0., 0.],\n",
              "           [0., 0., 0.,  ..., 0., 0., 0.],\n",
              "           [0., 0., 0.,  ..., 0., 0., 0.]]],\n",
              " \n",
              " \n",
              "         [[[0., 0., 0.,  ..., 0., 0., 0.],\n",
              "           [0., 0., 0.,  ..., 0., 0., 0.],\n",
              "           [0., 0., 0.,  ..., 0., 0., 0.],\n",
              "           ...,\n",
              "           [0., 0., 0.,  ..., 0., 0., 0.],\n",
              "           [0., 0., 0.,  ..., 0., 0., 0.],\n",
              "           [0., 0., 0.,  ..., 0., 0., 0.]]],\n",
              " \n",
              " \n",
              "         [[[0., 0., 0.,  ..., 0., 0., 0.],\n",
              "           [0., 0., 0.,  ..., 0., 0., 0.],\n",
              "           [0., 0., 0.,  ..., 0., 0., 0.],\n",
              "           ...,\n",
              "           [0., 0., 0.,  ..., 0., 0., 0.],\n",
              "           [0., 0., 0.,  ..., 0., 0., 0.],\n",
              "           [0., 0., 0.,  ..., 0., 0., 0.]]],\n",
              " \n",
              " \n",
              "         ...,\n",
              " \n",
              " \n",
              "         [[[0., 0., 0.,  ..., 0., 0., 0.],\n",
              "           [0., 0., 0.,  ..., 0., 0., 0.],\n",
              "           [0., 0., 0.,  ..., 0., 0., 0.],\n",
              "           ...,\n",
              "           [0., 0., 0.,  ..., 0., 0., 0.],\n",
              "           [0., 0., 0.,  ..., 0., 0., 0.],\n",
              "           [0., 0., 0.,  ..., 0., 0., 0.]]],\n",
              " \n",
              " \n",
              "         [[[0., 0., 0.,  ..., 0., 0., 0.],\n",
              "           [0., 0., 0.,  ..., 0., 0., 0.],\n",
              "           [0., 0., 0.,  ..., 0., 0., 0.],\n",
              "           ...,\n",
              "           [0., 0., 0.,  ..., 0., 0., 0.],\n",
              "           [0., 0., 0.,  ..., 0., 0., 0.],\n",
              "           [0., 0., 0.,  ..., 0., 0., 0.]]],\n",
              " \n",
              " \n",
              "         [[[0., 0., 0.,  ..., 0., 0., 0.],\n",
              "           [0., 0., 0.,  ..., 0., 0., 0.],\n",
              "           [0., 0., 0.,  ..., 0., 0., 0.],\n",
              "           ...,\n",
              "           [0., 0., 0.,  ..., 0., 0., 0.],\n",
              "           [0., 0., 0.,  ..., 0., 0., 0.],\n",
              "           [0., 0., 0.,  ..., 0., 0., 0.]]]]),\n",
              " False)"
            ]
          },
          "metadata": {},
          "execution_count": 76
        }
      ]
    },
    {
      "cell_type": "markdown",
      "source": [
        "Our images are of the shape 1x28x28, but we need them to be vectors of size 784, i.e., we need to flatten them. We'll use the '.reshape' method of a tensor, which will allow us to efficiently 'view' each image as a flat vector without really creating a copy of the underlying data."
      ],
      "metadata": {
        "id": "jEh7KfkGH2xs"
      }
    },
    {
      "cell_type": "code",
      "source": [
        "images.shape"
      ],
      "metadata": {
        "id": "rrjUxiBzG4K5",
        "colab": {
          "base_uri": "https://localhost:8080/"
        },
        "outputId": "66a48045-1796-48b1-ac31-688698b251f4"
      },
      "execution_count": 77,
      "outputs": [
        {
          "output_type": "execute_result",
          "data": {
            "text/plain": [
              "torch.Size([128, 1, 28, 28])"
            ]
          },
          "metadata": {},
          "execution_count": 77
        }
      ]
    },
    {
      "cell_type": "code",
      "source": [
        "images.reshape(128, 784).shape"
      ],
      "metadata": {
        "id": "r4fUDLtcILuj",
        "colab": {
          "base_uri": "https://localhost:8080/"
        },
        "outputId": "9b0c0824-2b33-4011-e96d-dccdc784f878"
      },
      "execution_count": 78,
      "outputs": [
        {
          "output_type": "execute_result",
          "data": {
            "text/plain": [
              "torch.Size([128, 784])"
            ]
          },
          "metadata": {},
          "execution_count": 78
        }
      ]
    },
    {
      "cell_type": "markdown",
      "source": [
        "To include this additional functionality within our model, we need to define a custom model by extending the nn.Module class from PyTorch."
      ],
      "metadata": {
        "id": "qZOpSU_bLFiS"
      }
    },
    {
      "cell_type": "code",
      "source": [
        "class MnistModel(nn.Module):\n",
        "  def __init__(self):\n",
        "    super().__init__()\n",
        "    self.linear=nn.Linear(input_size, num_classes)\n",
        "\n",
        "  def forward(self, xb):\n",
        "    xb= xb.reshape(-1, 784)\n",
        "    out= self.linear(xb)\n",
        "    return out\n",
        "\n",
        "model = MnistModel()"
      ],
      "metadata": {
        "id": "-AJj3LKfJ7nB"
      },
      "execution_count": 79,
      "outputs": []
    },
    {
      "cell_type": "code",
      "source": [
        "model.linear"
      ],
      "metadata": {
        "id": "apZA5enwMGvC",
        "colab": {
          "base_uri": "https://localhost:8080/"
        },
        "outputId": "02af2cb9-ec97-4ca0-e032-5d49d5080977"
      },
      "execution_count": 80,
      "outputs": [
        {
          "output_type": "execute_result",
          "data": {
            "text/plain": [
              "Linear(in_features=784, out_features=10, bias=True)"
            ]
          },
          "metadata": {},
          "execution_count": 80
        }
      ]
    },
    {
      "cell_type": "code",
      "source": [
        "print(model.linear.weight.shape, model.linear.bias.shape)\n",
        "list(model.parameters())"
      ],
      "metadata": {
        "id": "HOY_ksGJMX4P",
        "colab": {
          "base_uri": "https://localhost:8080/"
        },
        "outputId": "14dd51aa-1d24-4978-a3f8-102947d1a509"
      },
      "execution_count": 81,
      "outputs": [
        {
          "output_type": "stream",
          "name": "stdout",
          "text": [
            "torch.Size([10, 784]) torch.Size([10])\n"
          ]
        },
        {
          "output_type": "execute_result",
          "data": {
            "text/plain": [
              "[Parameter containing:\n",
              " tensor([[-0.0041,  0.0115,  0.0308,  ...,  0.0115, -0.0200, -0.0333],\n",
              "         [ 0.0232, -0.0213, -0.0276,  ...,  0.0085,  0.0154,  0.0065],\n",
              "         [-0.0044, -0.0004,  0.0079,  ..., -0.0117, -0.0284,  0.0233],\n",
              "         ...,\n",
              "         [-0.0038, -0.0039, -0.0237,  ...,  0.0177,  0.0292, -0.0324],\n",
              "         [-0.0278, -0.0131, -0.0135,  ...,  0.0173, -0.0178, -0.0124],\n",
              "         [ 0.0112,  0.0225,  0.0230,  ..., -0.0214, -0.0267,  0.0339]],\n",
              "        requires_grad=True),\n",
              " Parameter containing:\n",
              " tensor([-0.0257,  0.0167, -0.0214,  0.0020,  0.0240,  0.0054,  0.0057, -0.0050,\n",
              "          0.0142,  0.0306], requires_grad=True)]"
            ]
          },
          "metadata": {},
          "execution_count": 81
        }
      ]
    },
    {
      "cell_type": "markdown",
      "source": [
        "We can use our new custom model in the same way as before. Let's see if it works."
      ],
      "metadata": {
        "id": "RnlzepxbMxvi"
      }
    },
    {
      "cell_type": "code",
      "source": [
        "for images, labels in train_loader:\n",
        "    print(images.shape)\n",
        "    outputs = model(images)\n",
        "    break\n",
        "\n",
        "print('outputs.shape : ', outputs.shape)\n",
        "print('Sample outputs :\\n', outputs[:2].data)"
      ],
      "metadata": {
        "id": "pEMkaD6OMs4W",
        "colab": {
          "base_uri": "https://localhost:8080/"
        },
        "outputId": "a5fb73bf-b54f-482f-acc6-b171707c8ced"
      },
      "execution_count": 82,
      "outputs": [
        {
          "output_type": "stream",
          "name": "stdout",
          "text": [
            "torch.Size([128, 1, 28, 28])\n",
            "outputs.shape :  torch.Size([128, 10])\n",
            "Sample outputs :\n",
            " tensor([[-0.2197, -0.2880, -0.0490, -0.0902,  0.0018,  0.0847,  0.3700,  0.0331,\n",
            "          0.1788,  0.1376],\n",
            "        [ 0.0786, -0.2256,  0.1526,  0.1461,  0.1406,  0.0449,  0.1858,  0.0424,\n",
            "          0.1927, -0.0163]])\n"
          ]
        }
      ]
    },
    {
      "cell_type": "markdown",
      "source": [
        "For each of the 100 input images, we get 10 outputs, one for each class. As discussed earlier, we'd like these outputs to represent probabilities. Each output row's elements must lie between 0 to 1 and add up to 1, which is not the case.To convert the output rows into probabilities, we use the softmax function."
      ],
      "metadata": {
        "id": "akFyIyWcNpii"
      }
    },
    {
      "cell_type": "code",
      "source": [
        "import torch.nn.functional as F"
      ],
      "metadata": {
        "id": "rLmTnO4ZMyn7"
      },
      "execution_count": 83,
      "outputs": []
    },
    {
      "cell_type": "code",
      "source": [
        "outputs[:2]"
      ],
      "metadata": {
        "id": "2H1j-0tnNlop",
        "colab": {
          "base_uri": "https://localhost:8080/"
        },
        "outputId": "40cbcee6-0c62-49f3-e909-f9a80d317fdd"
      },
      "execution_count": 84,
      "outputs": [
        {
          "output_type": "execute_result",
          "data": {
            "text/plain": [
              "tensor([[-0.2197, -0.2880, -0.0490, -0.0902,  0.0018,  0.0847,  0.3700,  0.0331,\n",
              "          0.1788,  0.1376],\n",
              "        [ 0.0786, -0.2256,  0.1526,  0.1461,  0.1406,  0.0449,  0.1858,  0.0424,\n",
              "          0.1927, -0.0163]], grad_fn=<SliceBackward0>)"
            ]
          },
          "metadata": {},
          "execution_count": 84
        }
      ]
    },
    {
      "cell_type": "code",
      "source": [
        "# Apply softmax for each output row\n",
        "probs = F.softmax(outputs, dim=1)\n",
        "\n",
        "# Look at sample probabilities\n",
        "print(\"Sample probabilities:\\n\", probs[:2].data)\n",
        "\n",
        "# Add up the probabilities of an output row\n",
        "print(\"Sum: \", torch.sum(probs[0]).item())"
      ],
      "metadata": {
        "id": "_AXRRpXUN73e",
        "colab": {
          "base_uri": "https://localhost:8080/"
        },
        "outputId": "43ee57a9-4447-48e2-ff31-7ba51971a099"
      },
      "execution_count": 85,
      "outputs": [
        {
          "output_type": "stream",
          "name": "stdout",
          "text": [
            "Sample probabilities:\n",
            " tensor([[0.0777, 0.0726, 0.0921, 0.0884, 0.0969, 0.1053, 0.1401, 0.1000, 0.1157,\n",
            "         0.1110],\n",
            "        [0.0998, 0.0736, 0.1074, 0.1067, 0.1061, 0.0965, 0.1111, 0.0962, 0.1118,\n",
            "         0.0907]])\n",
            "Sum:  1.0\n"
          ]
        }
      ]
    },
    {
      "cell_type": "markdown",
      "source": [
        "Finally, we can determine the predicted label for each image by simply choosing the index of the element with the highest probability in each output row. We can do this using `torch.max`, which returns each row's largest element and the corresponding index."
      ],
      "metadata": {
        "id": "oYd14DMqODQS"
      }
    },
    {
      "cell_type": "code",
      "source": [
        "max_probs, preds = torch.max(probs, dim=1)\n",
        "print(preds)\n",
        "print(max_probs)"
      ],
      "metadata": {
        "id": "MoGH5NjoN-pX",
        "colab": {
          "base_uri": "https://localhost:8080/"
        },
        "outputId": "512822c6-231a-44a2-8dd4-3a16655090d2"
      },
      "execution_count": 86,
      "outputs": [
        {
          "output_type": "stream",
          "name": "stdout",
          "text": [
            "tensor([6, 8, 4, 6, 9, 6, 6, 5, 8, 6, 8, 6, 6, 3, 6, 6, 6, 6, 3, 0, 5, 9, 3, 6,\n",
            "        0, 6, 8, 3, 5, 0, 6, 5, 4, 6, 3, 6, 9, 7, 9, 6, 6, 9, 6, 9, 6, 9, 6, 3,\n",
            "        6, 6, 8, 3, 6, 0, 4, 6, 6, 4, 3, 0, 6, 6, 6, 6, 3, 6, 6, 6, 6, 4, 3, 3,\n",
            "        4, 3, 6, 3, 6, 9, 3, 9, 0, 7, 6, 6, 4, 5, 6, 6, 8, 9, 0, 6, 6, 6, 4, 6,\n",
            "        6, 8, 3, 0, 6, 8, 2, 6, 3, 7, 6, 7, 3, 8, 6, 6, 6, 6, 0, 6, 6, 6, 6, 6,\n",
            "        3, 6, 6, 6, 6, 8, 6, 2])\n",
            "tensor([0.1401, 0.1118, 0.1358, 0.1387, 0.1168, 0.1442, 0.1376, 0.1229, 0.1287,\n",
            "        0.1388, 0.1274, 0.1291, 0.1539, 0.1293, 0.1404, 0.1370, 0.1134, 0.1363,\n",
            "        0.1366, 0.1217, 0.1532, 0.1145, 0.1240, 0.1472, 0.1371, 0.1340, 0.1149,\n",
            "        0.1212, 0.1188, 0.1228, 0.1480, 0.1214, 0.1361, 0.1480, 0.1252, 0.1422,\n",
            "        0.1281, 0.1328, 0.1294, 0.1242, 0.1205, 0.1172, 0.1366, 0.1208, 0.1311,\n",
            "        0.1169, 0.1304, 0.1252, 0.1362, 0.1438, 0.1141, 0.1350, 0.1239, 0.1294,\n",
            "        0.1266, 0.1310, 0.1366, 0.1345, 0.1307, 0.1176, 0.1478, 0.1519, 0.1414,\n",
            "        0.1268, 0.1215, 0.1178, 0.1436, 0.1313, 0.1609, 0.1216, 0.1281, 0.1219,\n",
            "        0.1292, 0.1259, 0.1426, 0.1242, 0.1323, 0.1190, 0.1256, 0.1237, 0.1418,\n",
            "        0.1232, 0.1313, 0.1217, 0.1441, 0.1350, 0.1512, 0.1149, 0.1405, 0.1238,\n",
            "        0.1258, 0.1257, 0.1437, 0.1226, 0.1433, 0.1386, 0.1404, 0.1172, 0.1372,\n",
            "        0.1321, 0.1346, 0.1195, 0.1250, 0.1438, 0.1361, 0.1357, 0.1338, 0.1132,\n",
            "        0.1141, 0.1358, 0.1526, 0.1168, 0.1356, 0.1380, 0.1328, 0.1161, 0.1183,\n",
            "        0.1311, 0.1536, 0.1240, 0.1418, 0.1354, 0.1196, 0.1459, 0.1378, 0.1286,\n",
            "        0.1433, 0.1245], grad_fn=<MaxBackward0>)\n"
          ]
        }
      ]
    },
    {
      "cell_type": "markdown",
      "source": [
        "The numbers printed above are the predicted labels for the first batch of training images. Let's compare them with the actual labels."
      ],
      "metadata": {
        "id": "SavU9OiIOQja"
      }
    },
    {
      "cell_type": "code",
      "source": [
        "labels"
      ],
      "metadata": {
        "id": "Mcbr7ZluOH4s",
        "colab": {
          "base_uri": "https://localhost:8080/"
        },
        "outputId": "574d32a3-e06a-4b27-eb62-c1a5a12f4230"
      },
      "execution_count": 87,
      "outputs": [
        {
          "output_type": "execute_result",
          "data": {
            "text/plain": [
              "tensor([4, 2, 3, 3, 4, 8, 5, 6, 4, 7, 4, 9, 3, 5, 1, 5, 8, 3, 3, 7, 6, 3, 1, 3,\n",
              "        8, 1, 9, 3, 5, 5, 5, 2, 0, 2, 7, 4, 9, 6, 4, 5, 3, 1, 9, 1, 7, 1, 6, 6,\n",
              "        1, 7, 4, 9, 9, 2, 5, 9, 2, 0, 5, 3, 5, 8, 2, 0, 8, 1, 9, 4, 6, 3, 9, 8,\n",
              "        8, 7, 7, 0, 9, 3, 4, 9, 5, 3, 8, 1, 5, 6, 4, 4, 4, 0, 5, 9, 3, 0, 5, 1,\n",
              "        4, 4, 2, 5, 3, 0, 5, 2, 9, 2, 0, 1, 1, 9, 7, 1, 6, 8, 6, 1, 1, 1, 3, 1,\n",
              "        2, 9, 1, 8, 8, 0, 9, 0])"
            ]
          },
          "metadata": {},
          "execution_count": 87
        }
      ]
    },
    {
      "cell_type": "markdown",
      "source": [
        "Most of the predicted labels are different from the actual labels. That's because we have started with randomly initialized weights and biases. We need to train the model, i.e., adjust the weights using gradient descent to make better predictions."
      ],
      "metadata": {
        "id": "-i4DupglOXXn"
      }
    },
    {
      "cell_type": "markdown",
      "source": [
        "## Evaluation Metric and Loss Function\n",
        "\n",
        "Just as with linear regression, we need a way to evaluate how well our model is performing. A natural way to do this would be to find the percentage of labels that were predicted correctly, i.e,. the **accuracy** of the predictions."
      ],
      "metadata": {
        "id": "Fl5fdUcYOZYp"
      }
    },
    {
      "cell_type": "code",
      "source": [
        "outputs[:2]"
      ],
      "metadata": {
        "id": "o6eaeyDGOSUW",
        "colab": {
          "base_uri": "https://localhost:8080/"
        },
        "outputId": "20c56c01-418b-4e27-d195-cee1c32c9da3"
      },
      "execution_count": 88,
      "outputs": [
        {
          "output_type": "execute_result",
          "data": {
            "text/plain": [
              "tensor([[-0.2197, -0.2880, -0.0490, -0.0902,  0.0018,  0.0847,  0.3700,  0.0331,\n",
              "          0.1788,  0.1376],\n",
              "        [ 0.0786, -0.2256,  0.1526,  0.1461,  0.1406,  0.0449,  0.1858,  0.0424,\n",
              "          0.1927, -0.0163]], grad_fn=<SliceBackward0>)"
            ]
          },
          "metadata": {},
          "execution_count": 88
        }
      ]
    },
    {
      "cell_type": "code",
      "source": [
        "torch.sum(preds == labels)"
      ],
      "metadata": {
        "id": "rLeRtlrvOjrL",
        "colab": {
          "base_uri": "https://localhost:8080/"
        },
        "outputId": "9944a9ef-d7e1-4582-c1fb-3c2e7045b1e5"
      },
      "execution_count": 89,
      "outputs": [
        {
          "output_type": "execute_result",
          "data": {
            "text/plain": [
              "tensor(8)"
            ]
          },
          "metadata": {},
          "execution_count": 89
        }
      ]
    },
    {
      "cell_type": "markdown",
      "source": [
        "So our model predict for 16 labels correctly."
      ],
      "metadata": {
        "id": "fhUQWtWrcSOY"
      }
    },
    {
      "cell_type": "code",
      "source": [
        "def accuracy(outputs, labels):\n",
        "  _, preds = torch.max(outputs, dim = 1)\n",
        "  return torch.tensor(torch.sum(preds==labels).item() / len(preds))"
      ],
      "metadata": {
        "id": "XsMCs9UlOmjR"
      },
      "execution_count": 90,
      "outputs": []
    },
    {
      "cell_type": "markdown",
      "source": [
        "The torch.max() function returns a tuple containing two tensors:\n",
        "\n",
        "1.The first tensor in the tuple contains the maximum values along the specified dimension. However, in the code snippet, we use _ to ignore this tensor and discard it. This is because we are only interested in the indices of the maximum values and not the values themselves.\n",
        "\n",
        "2.The second tensor in the tuple contains the indices of the maximum values along the specified dimension. This tensor is assigned to the variable preds. Each index represents the predicted class label for a corresponding input sample.\n",
        "\n",
        "   The == operator performs an element-wise comparison of two tensors with the same shape and returns a tensor of the same shape, containing True for unequal elements and False for equal elements. Passing the result to torch.sum returns the number of labels that were predicted correctly. Finally, we divide by the total number of images to get the accuracy."
      ],
      "metadata": {
        "id": "dlMN01G2YSqJ"
      }
    },
    {
      "cell_type": "markdown",
      "source": [
        "Let's calculate the accuracy of the current model on the first batch of data."
      ],
      "metadata": {
        "id": "fwra7X34cvKs"
      }
    },
    {
      "cell_type": "code",
      "source": [
        "accuracy(outputs, labels)"
      ],
      "metadata": {
        "id": "_f48uz1-Yxhq",
        "colab": {
          "base_uri": "https://localhost:8080/"
        },
        "outputId": "b98ac27b-5b7b-4d1a-aa5a-ea8afd5e24bd"
      },
      "execution_count": 91,
      "outputs": [
        {
          "output_type": "execute_result",
          "data": {
            "text/plain": [
              "tensor(0.0625)"
            ]
          },
          "metadata": {},
          "execution_count": 91
        }
      ]
    },
    {
      "cell_type": "code",
      "source": [
        "probs"
      ],
      "metadata": {
        "colab": {
          "base_uri": "https://localhost:8080/"
        },
        "id": "YRCI9i4Vcs9H",
        "outputId": "3eecc105-1f47-4e42-cf8d-91b4eca2e553"
      },
      "execution_count": 92,
      "outputs": [
        {
          "output_type": "execute_result",
          "data": {
            "text/plain": [
              "tensor([[0.0777, 0.0726, 0.0921,  ..., 0.1000, 0.1157, 0.1110],\n",
              "        [0.0998, 0.0736, 0.1074,  ..., 0.0962, 0.1118, 0.0907],\n",
              "        [0.1117, 0.0675, 0.0914,  ..., 0.0951, 0.0957, 0.1162],\n",
              "        ...,\n",
              "        [0.1009, 0.0463, 0.0906,  ..., 0.0895, 0.1286, 0.0996],\n",
              "        [0.1050, 0.0630, 0.0846,  ..., 0.0934, 0.0979, 0.0955],\n",
              "        [0.1091, 0.0608, 0.1245,  ..., 0.0813, 0.1140, 0.1062]],\n",
              "       grad_fn=<SoftmaxBackward0>)"
            ]
          },
          "metadata": {},
          "execution_count": 92
        }
      ]
    },
    {
      "cell_type": "markdown",
      "source": [
        "Accuracy is often used as an evaluation metric for classification, but not as a loss function. A commonly used loss function for classification problems is the cross-entropy. So we use that cross-entropy as loss function."
      ],
      "metadata": {
        "id": "V8PP9UCfdfvd"
      }
    },
    {
      "cell_type": "code",
      "source": [
        "outputs"
      ],
      "metadata": {
        "colab": {
          "base_uri": "https://localhost:8080/"
        },
        "id": "BC0bGTFzcy_w",
        "outputId": "e238f53c-571b-4d8a-c72a-2ef45709e151"
      },
      "execution_count": 93,
      "outputs": [
        {
          "output_type": "execute_result",
          "data": {
            "text/plain": [
              "tensor([[-0.2197, -0.2880, -0.0490,  ...,  0.0331,  0.1788,  0.1376],\n",
              "        [ 0.0786, -0.2256,  0.1526,  ...,  0.0424,  0.1927, -0.0163],\n",
              "        [ 0.2133, -0.2907,  0.0135,  ...,  0.0533,  0.0590,  0.2531],\n",
              "        ...,\n",
              "        [ 0.1096, -0.6701,  0.0025,  ..., -0.0107,  0.3523,  0.0962],\n",
              "        [ 0.0982, -0.4123, -0.1175,  ..., -0.0183,  0.0281,  0.0031],\n",
              "        [ 0.1828, -0.4018,  0.3147,  ..., -0.1117,  0.2268,  0.1555]],\n",
              "       grad_fn=<AddmmBackward0>)"
            ]
          },
          "metadata": {},
          "execution_count": 93
        }
      ]
    },
    {
      "cell_type": "code",
      "source": [
        "loss_fn= F.cross_entropy"
      ],
      "metadata": {
        "id": "08rAkZypd7N2"
      },
      "execution_count": 94,
      "outputs": []
    },
    {
      "cell_type": "code",
      "source": [
        "loss= loss_fn(outputs, labels)\n",
        "print(loss)"
      ],
      "metadata": {
        "colab": {
          "base_uri": "https://localhost:8080/"
        },
        "id": "-dUasEOReEPY",
        "outputId": "13698277-58a9-4c4e-dbb7-89a7e1d0616c"
      },
      "execution_count": 95,
      "outputs": [
        {
          "output_type": "stream",
          "name": "stdout",
          "text": [
            "tensor(2.3311, grad_fn=<NllLossBackward0>)\n"
          ]
        }
      ]
    },
    {
      "cell_type": "markdown",
      "source": [
        "We know that cross-entropy is the negative logarithm of the predicted probability of the correct label averaged over all training samples. Therefore, one way to interpret the resulting number e.g. `2.23` is look at `e^-2.23` which is around `0.1` as the predicted probability of the correct label, on average. *The lower the loss, The better the model.*"
      ],
      "metadata": {
        "id": "RA7O-frzeVpc"
      }
    },
    {
      "cell_type": "markdown",
      "source": [
        "## Training the model\n",
        "\n",
        "Now that we have defined the data loaders, model, loss function and optimizer, we are ready to train the model. The training process is identical to linear regression, with the addition of a \"validation phase\" to evaluate the model in each epoch"
      ],
      "metadata": {
        "id": "mFdl9KNKeiB4"
      }
    },
    {
      "cell_type": "markdown",
      "source": [
        "We'll include the problem-independent parts within a function called fit, which will be used to train the model. The problem-specific parts will be implemented by adding new methods to the nn.Module class."
      ],
      "metadata": {
        "id": "msiEaQOqe17B"
      }
    },
    {
      "cell_type": "code",
      "source": [
        "def fit(epochs, lr, model, train_loader, val_loader, opt_func= torch.optim.SGD):\n",
        "  optimizer = opt_func(model.parameters(), lr)\n",
        "  history=[] #creating list for recording epoch-wise results\n",
        "\n",
        "  for epoch in range(epochs):\n",
        "\n",
        "    for batch in train_loader:\n",
        "      loss= model.training_step(batch)\n",
        "      loss.backward()\n",
        "      optimizer.step()\n",
        "      optimizer.zero_grad()\n",
        "\n",
        "    result= evaluate(model, val_loader)\n",
        "    model.epoch_end(epoch, result)\n",
        "    history.append(result)\n",
        "  return history"
      ],
      "metadata": {
        "id": "qQyUvcmCeMFk"
      },
      "execution_count": 96,
      "outputs": []
    },
    {
      "cell_type": "markdown",
      "source": [
        "Let's define the evaluate function, used in the validation phase of fit."
      ],
      "metadata": {
        "id": "Ce3WJprTgm9B"
      }
    },
    {
      "cell_type": "code",
      "source": [
        "def evaluate(model, val_loader):\n",
        "  outputs = [model.validation_step(batch) for batch in val_loader]\n",
        "  return model.validation_epoch_end(outputs)"
      ],
      "metadata": {
        "id": "6Z_ySOHkgfnE"
      },
      "execution_count": 97,
      "outputs": []
    },
    {
      "cell_type": "markdown",
      "source": [
        "\n",
        "Finally, let's redefine the `MnistModel` class to include additional methods `training_step`, `validation_step`, `validation_epoch_end`, and `epoch_end` used by `fit` and `evaluate`."
      ],
      "metadata": {
        "id": "yK7HuZFhhMLQ"
      }
    },
    {
      "cell_type": "code",
      "source": [
        "class MnistModel(nn.Module):\n",
        "    def __init__(self):\n",
        "        super().__init__()\n",
        "        self.linear = nn.Linear(input_size, num_classes)\n",
        "\n",
        "    def forward(self, xb):\n",
        "        xb = xb.reshape(-1, 784)\n",
        "        out = self.linear(xb)\n",
        "        return out\n",
        "\n",
        "    def training_step(self, batch):\n",
        "        images, labels = batch\n",
        "        out = self(images)                  # Generate predictions\n",
        "        loss = F.cross_entropy(out, labels) # Calculate loss\n",
        "        return loss\n",
        "\n",
        "    def validation_step(self, batch):\n",
        "        images, labels = batch\n",
        "        out = self(images)                    # Generate predictions\n",
        "        loss = F.cross_entropy(out, labels)   # Calculate loss\n",
        "        acc = accuracy(out, labels)           # Calculate accuracy\n",
        "        return {'val_loss': loss, 'val_acc': acc}\n",
        "\n",
        "    def validation_epoch_end(self, outputs):\n",
        "        batch_losses = [x['val_loss'] for x in outputs]\n",
        "        epoch_loss = torch.stack(batch_losses).mean()   # Combine losses\n",
        "        batch_accs = [x['val_acc'] for x in outputs]\n",
        "        epoch_acc = torch.stack(batch_accs).mean()      # Combine accuracies\n",
        "        return {'val_loss': epoch_loss.item(), 'val_acc': epoch_acc.item()}\n",
        "\n",
        "    def epoch_end(self, epoch, result):\n",
        "        print(\"Epoch [{}], val_loss: {:.4f}, val_acc: {:.4f}\".format(epoch, result['val_loss'], result['val_acc']))\n",
        "\n",
        "model = MnistModel()"
      ],
      "metadata": {
        "id": "2Znk2OolhKmU"
      },
      "execution_count": 98,
      "outputs": []
    },
    {
      "cell_type": "markdown",
      "source": [
        "Before we train the model, let's see how the model performs on the validation set with the initial set of randomly initialized weights & biases."
      ],
      "metadata": {
        "id": "J-txH-ZBhURv"
      }
    },
    {
      "cell_type": "code",
      "source": [
        "result0 = evaluate(model, val_loader)\n",
        "result0"
      ],
      "metadata": {
        "colab": {
          "base_uri": "https://localhost:8080/"
        },
        "id": "OdwJlIhQhQcU",
        "outputId": "d1c95219-32ae-4549-f176-af9a917601ec"
      },
      "execution_count": 99,
      "outputs": [
        {
          "output_type": "execute_result",
          "data": {
            "text/plain": [
              "{'val_loss': 2.3530659675598145, 'val_acc': 0.0823773741722107}"
            ]
          },
          "metadata": {},
          "execution_count": 99
        }
      ]
    },
    {
      "cell_type": "markdown",
      "source": [
        "The initial accuracy is around 10%, which one might expect from a randomly initialized model (since it has a 1 in 10 chance of getting a label right by guessing randomly).\n",
        "\n",
        "We are now ready to train the model. Let's train for five epochs and look at the results."
      ],
      "metadata": {
        "id": "euoDrUjVhgH0"
      }
    },
    {
      "cell_type": "code",
      "source": [
        "history1= fit(5, 0.001, model, train_loader, val_loader)"
      ],
      "metadata": {
        "colab": {
          "base_uri": "https://localhost:8080/"
        },
        "id": "lI_hen0uhVOB",
        "outputId": "63791931-73a8-425b-9dba-cd9a9a5f8acc"
      },
      "execution_count": 100,
      "outputs": [
        {
          "output_type": "stream",
          "name": "stdout",
          "text": [
            "Epoch [0], val_loss: 1.9764, val_acc: 0.5864\n",
            "Epoch [1], val_loss: 1.7012, val_acc: 0.7206\n",
            "Epoch [2], val_loss: 1.4954, val_acc: 0.7583\n",
            "Epoch [3], val_loss: 1.3401, val_acc: 0.7790\n",
            "Epoch [4], val_loss: 1.2208, val_acc: 0.7924\n"
          ]
        }
      ]
    },
    {
      "cell_type": "code",
      "source": [
        "history2 = fit(5, 0.01, model, train_loader, val_loader)"
      ],
      "metadata": {
        "colab": {
          "base_uri": "https://localhost:8080/"
        },
        "id": "MDecyj1_hsfG",
        "outputId": "a5fa365e-cebe-4fb7-9022-6edd06d8502a"
      },
      "execution_count": 101,
      "outputs": [
        {
          "output_type": "stream",
          "name": "stdout",
          "text": [
            "Epoch [0], val_loss: 0.7547, val_acc: 0.8386\n",
            "Epoch [1], val_loss: 0.6205, val_acc: 0.8570\n",
            "Epoch [2], val_loss: 0.5542, val_acc: 0.8647\n",
            "Epoch [3], val_loss: 0.5132, val_acc: 0.8722\n",
            "Epoch [4], val_loss: 0.4854, val_acc: 0.8742\n"
          ]
        }
      ]
    },
    {
      "cell_type": "code",
      "source": [
        "history3 = fit(5, 0.01, model, train_loader, val_loader)"
      ],
      "metadata": {
        "colab": {
          "base_uri": "https://localhost:8080/"
        },
        "id": "ZF0oRO_3h4bj",
        "outputId": "dc7814e5-100c-466a-87a1-c7c6fcf16865"
      },
      "execution_count": 102,
      "outputs": [
        {
          "output_type": "stream",
          "name": "stdout",
          "text": [
            "Epoch [0], val_loss: 0.4829, val_acc: 0.8755\n",
            "Epoch [1], val_loss: 0.4806, val_acc: 0.8759\n",
            "Epoch [2], val_loss: 0.4784, val_acc: 0.8767\n",
            "Epoch [3], val_loss: 0.4762, val_acc: 0.8773\n",
            "Epoch [4], val_loss: 0.4741, val_acc: 0.8773\n"
          ]
        }
      ]
    },
    {
      "cell_type": "code",
      "source": [
        "history4 = fit(5, 0.01, model, train_loader, val_loader)"
      ],
      "metadata": {
        "colab": {
          "base_uri": "https://localhost:8080/"
        },
        "id": "2KRBCx3tiFtR",
        "outputId": "48b99784-1312-412b-9c4e-6ae1e3589b5b"
      },
      "execution_count": 103,
      "outputs": [
        {
          "output_type": "stream",
          "name": "stdout",
          "text": [
            "Epoch [0], val_loss: 0.4559, val_acc: 0.8813\n",
            "Epoch [1], val_loss: 0.4415, val_acc: 0.8844\n",
            "Epoch [2], val_loss: 0.4296, val_acc: 0.8858\n",
            "Epoch [3], val_loss: 0.4198, val_acc: 0.8882\n",
            "Epoch [4], val_loss: 0.4113, val_acc: 0.8884\n"
          ]
        }
      ]
    },
    {
      "cell_type": "markdown",
      "source": [
        "While the accuracy does continue to increase as we train for more epochs, the improvements get smaller with every epoch. Let's visualize this using a line graph."
      ],
      "metadata": {
        "id": "Xw1QLF3timdC"
      }
    },
    {
      "cell_type": "code",
      "source": [
        "history = [result0]+ history1+ history2+ history3+ history4\n",
        "accuracies = [result[\"val_acc\"] for result in history]\n",
        "plt.plot(accuracies, '-x')\n",
        "plt.xlabel('epoch')\n",
        "plt.ylabel('accuracy')\n",
        "plt.title('Accuracy vs. No. of epochs');"
      ],
      "metadata": {
        "colab": {
          "base_uri": "https://localhost:8080/",
          "height": 472
        },
        "id": "4aAgwAuRiYDm",
        "outputId": "2af54a31-8ca3-4c3f-cd8f-a65930f8319a"
      },
      "execution_count": 105,
      "outputs": [
        {
          "output_type": "display_data",
          "data": {
            "text/plain": [
              "<Figure size 640x480 with 1 Axes>"
            ],
            "image/png": "[encoded data removed]"
          },
          "metadata": {}
        }
      ]
    },
    {
      "cell_type": "markdown",
      "source": [
        "## Testing with individual images"
      ],
      "metadata": {
        "id": "kf0i8J-LkrnC"
      }
    },
    {
      "cell_type": "code",
      "source": [
        "# Define test dataset\n",
        "test_dataset = MNIST(root='data/',\n",
        "                     train=False,\n",
        "                     transform=transforms.ToTensor())"
      ],
      "metadata": {
        "id": "A5eET1PwkjUA"
      },
      "execution_count": 106,
      "outputs": []
    },
    {
      "cell_type": "markdown",
      "source": [
        "Here is the simple image from the dataset."
      ],
      "metadata": {
        "id": "Al6qBU-ik3ZW"
      }
    },
    {
      "cell_type": "code",
      "source": [
        "img, label = test_dataset[0]\n",
        "plt.imshow(img[0], cmap='gray')\n",
        "print('Shape:', img.shape)\n",
        "print('Label:', label)"
      ],
      "metadata": {
        "colab": {
          "base_uri": "https://localhost:8080/",
          "height": 465
        },
        "id": "22PR-Js1k0X-",
        "outputId": "73bf3d7d-4633-4ebc-d3a1-10c206a25058"
      },
      "execution_count": 107,
      "outputs": [
        {
          "output_type": "stream",
          "name": "stdout",
          "text": [
            "Shape: torch.Size([1, 28, 28])\n",
            "Label: 7\n"
          ]
        },
        {
          "output_type": "display_data",
          "data": {
            "text/plain": [
              "<Figure size 640x480 with 1 Axes>"
            ],
            "image/png": "[encoded data removed]"
          },
          "metadata": {}
        }
      ]
    },
    {
      "cell_type": "markdown",
      "source": [
        "Let's define a helper function `predict_image`, which returns the predicted label for a single image tensor."
      ],
      "metadata": {
        "id": "A5Hub_8slAkr"
      }
    },
    {
      "cell_type": "code",
      "source": [
        "def predict_image(img, model):\n",
        "  xb= img.unsqueeze(0)\n",
        "  yb= model(xb)\n",
        "  _, preds = torch.max(yb, dim=1)\n",
        "  return preds[0].item()"
      ],
      "metadata": {
        "id": "jM8HDn-Xk91c"
      },
      "execution_count": 108,
      "outputs": []
    },
    {
      "cell_type": "markdown",
      "source": [
        "`img.unsqueeze` simply adds another dimension at the begining of the 1x28x28 tensor, making it a 1x1x28x28 tensor, which the model views as a batch containing a single image.\n",
        "\n",
        "Let's try it out with a few images."
      ],
      "metadata": {
        "id": "T9SpNDdQld0h"
      }
    },
    {
      "cell_type": "code",
      "source": [
        "img, label = test_dataset[0]\n",
        "plt.imshow(img[0], cmap='gray')\n",
        "print('Label:', label, ', Predicted:', predict_image(img, model))"
      ],
      "metadata": {
        "colab": {
          "base_uri": "https://localhost:8080/",
          "height": 447
        },
        "id": "TbUEAwJXlb_G",
        "outputId": "6bc498a8-5ee4-4875-f8dc-eb10ece28b33"
      },
      "execution_count": 109,
      "outputs": [
        {
          "output_type": "stream",
          "name": "stdout",
          "text": [
            "Label: 7 , Predicted: 7\n"
          ]
        },
        {
          "output_type": "display_data",
          "data": {
            "text/plain": [
              "<Figure size 640x480 with 1 Axes>"
            ],
            "image/png": "[encoded data removed]"
          },
          "metadata": {}
        }
      ]
    },
    {
      "cell_type": "code",
      "source": [
        "img, label = test_dataset[10]\n",
        "plt.imshow(img[0], cmap='gray')\n",
        "print('Label:', label, ', Predicted:', predict_image(img, model))"
      ],
      "metadata": {
        "colab": {
          "base_uri": "https://localhost:8080/",
          "height": 447
        },
        "id": "BDOzu4k9lgQ4",
        "outputId": "8f160c6d-aa54-4692-9f23-d9ca2346302b"
      },
      "execution_count": 110,
      "outputs": [
        {
          "output_type": "stream",
          "name": "stdout",
          "text": [
            "Label: 0 , Predicted: 0\n"
          ]
        },
        {
          "output_type": "display_data",
          "data": {
            "text/plain": [
              "<Figure size 640x480 with 1 Axes>"
            ],
            "image/png": "[encoded data removed]"
          },
          "metadata": {}
        }
      ]
    },
    {
      "cell_type": "markdown",
      "source": [
        "Here is some drawback also in our model."
      ],
      "metadata": {
        "id": "0E1mKK94mp-Y"
      }
    },
    {
      "cell_type": "code",
      "source": [
        "img, label = test_dataset[193]\n",
        "plt.imshow(img[0], cmap='gray')\n",
        "print('Label:', label, ', Predicted:', predict_image(img, model))"
      ],
      "metadata": {
        "colab": {
          "base_uri": "https://localhost:8080/",
          "height": 447
        },
        "id": "KUDQ0Y6FljtA",
        "outputId": "96cd5323-e058-4288-cdf0-620609564797"
      },
      "execution_count": 111,
      "outputs": [
        {
          "output_type": "stream",
          "name": "stdout",
          "text": [
            "Label: 9 , Predicted: 3\n"
          ]
        },
        {
          "output_type": "display_data",
          "data": {
            "text/plain": [
              "<Figure size 640x480 with 1 Axes>"
            ],
            "image/png": "[encoded data removed]"
          },
          "metadata": {}
        }
      ]
    },
    {
      "cell_type": "code",
      "source": [
        "img, label = test_dataset[1839]\n",
        "plt.imshow(img[0], cmap='gray')\n",
        "print('Label:', label, ', Predicted:', predict_image(img, model))"
      ],
      "metadata": {
        "colab": {
          "base_uri": "https://localhost:8080/",
          "height": 447
        },
        "id": "MQG0A23llnjp",
        "outputId": "4e1b53b1-06b7-4cfe-9081-6d8094226fd1"
      },
      "execution_count": 112,
      "outputs": [
        {
          "output_type": "stream",
          "name": "stdout",
          "text": [
            "Label: 2 , Predicted: 8\n"
          ]
        },
        {
          "output_type": "display_data",
          "data": {
            "text/plain": [
              "<Figure size 640x480 with 1 Axes>"
            ],
            "image/png": "[encoded data removed]"
          },
          "metadata": {}
        }
      ]
    },
    {
      "cell_type": "markdown",
      "source": [
        "Identifying where our model performs poorly can help us improve the model, by collecting more training data, increasing/decreasing the complexity of the model, and changing the hypeparameters.\n",
        "\n",
        "As a final step, let's also look at the overall loss and accuracy of the model on the test set."
      ],
      "metadata": {
        "id": "WF2N1qlEmxYG"
      }
    },
    {
      "cell_type": "code",
      "source": [
        "test_loader = DataLoader(test_dataset, batch_size=256)\n",
        "result = evaluate(model, test_loader)\n",
        "result"
      ],
      "metadata": {
        "colab": {
          "base_uri": "https://localhost:8080/"
        },
        "id": "-h6GmhYelrg2",
        "outputId": "2c1b8baa-0591-4024-d46d-c1fc33020924"
      },
      "execution_count": 113,
      "outputs": [
        {
          "output_type": "execute_result",
          "data": {
            "text/plain": [
              "{'val_loss': 0.3841671943664551, 'val_acc': 0.898144543170929}"
            ]
          },
          "metadata": {},
          "execution_count": 113
        }
      ]
    },
    {
      "cell_type": "markdown",
      "source": [
        "## Saving and loading the model"
      ],
      "metadata": {
        "id": "SplEmmJUmYVh"
      }
    },
    {
      "cell_type": "code",
      "source": [
        "torch.save(model.state_dict(), 'mnist-logistic.pth')"
      ],
      "metadata": {
        "id": "ryNWtGyzlxiq"
      },
      "execution_count": 114,
      "outputs": []
    },
    {
      "cell_type": "markdown",
      "source": [
        "The `.state_dict` method returns an `OrderedDict` containing all the weights and bias matrices mapped to the right attributes of the model."
      ],
      "metadata": {
        "id": "PoosMEmNnD-s"
      }
    },
    {
      "cell_type": "code",
      "source": [
        "model.state_dict()"
      ],
      "metadata": {
        "colab": {
          "base_uri": "https://localhost:8080/"
        },
        "id": "vU-uX5OCl51G",
        "outputId": "8422b1ea-c770-4798-c7b8-bdfe97928c88"
      },
      "execution_count": 115,
      "outputs": [
        {
          "output_type": "execute_result",
          "data": {
            "text/plain": [
              "OrderedDict([('linear.weight',\n",
              "              tensor([[-0.0074, -0.0069,  0.0240,  ..., -0.0278, -0.0273,  0.0125],\n",
              "                      [ 0.0294, -0.0069,  0.0201,  ...,  0.0183, -0.0290, -0.0230],\n",
              "                      [-0.0221, -0.0252, -0.0085,  ..., -0.0120,  0.0293,  0.0281],\n",
              "                      ...,\n",
              "                      [-0.0295, -0.0031, -0.0306,  ...,  0.0215, -0.0090, -0.0159],\n",
              "                      [-0.0117,  0.0137,  0.0063,  ..., -0.0084,  0.0188, -0.0223],\n",
              "                      [-0.0077, -0.0265,  0.0308,  ..., -0.0323,  0.0130, -0.0050]])),\n",
              "             ('linear.bias',\n",
              "              tensor([-0.0793,  0.2259, -0.0429, -0.0613,  0.0456,  0.2245, -0.0114,  0.1282,\n",
              "                      -0.3281, -0.0582]))])"
            ]
          },
          "metadata": {},
          "execution_count": 115
        }
      ]
    },
    {
      "cell_type": "code",
      "source": [],
      "metadata": {
        "id": "UsOluhRUl8XJ"
      },
      "execution_count": null,
      "outputs": []
    }
  ]
}